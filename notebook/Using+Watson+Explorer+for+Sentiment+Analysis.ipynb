{
 "cells": [
  {
   "cell_type": "markdown",
   "metadata": {},
   "source": [
    "# Using Watson Explorer for Sentiment Analysis\n",
    "\n",
    "This notebook shows you how to use Watson Explorer from DSX Local to analyze unstructured content to perform sentiment analysis.\n",
    "\n",
    "The data sets for this notebook are real world data from the Airbnb guest reviews of their lodging experience. You'll learn the basic steps to analyze the unstructured data through Watson Explorer and narrow the focus on your unstructured data quickly. In the process you will use Python and WEX, and create sentiment heatmaps."
   ]
  },
  {
   "cell_type": "markdown",
   "metadata": {},
   "source": [
    "## Table of contents\n",
    "This notebook contains the followiong main sections:\n",
    "\n",
    "- [Prepare the environment](#prepare_environment)\n",
    "- [Load data](#load_data)\n",
    "- [Create a Dataset](#create_dataset)\n",
    "- [Add documents to the Dataset](#add_documents)\n",
    "- [Locate Part-of-Speech and Sentiment enrichments](#locate_enrichment)\n",
    "- [Create a collection](#create_collection)\n",
    "- [Analyze positive targets](#analyze_positive_target)\n",
    "- [Summary](#summary)"
   ]
  },
  {
   "cell_type": "markdown",
   "metadata": {},
   "source": [
    "<a id='prepare_environment'></a>\n",
    "## Prepare the environment\n",
    "To access Watson Explorer from the notebook, import Watson Explorer Python libraries and specify the endpoint and access information to your Watson Explorer deployment with the following code sample."
   ]
  },
  {
   "cell_type": "code",
   "execution_count": 1,
   "metadata": {},
   "outputs": [],
   "source": [
    "import ibmwex\n",
    "\n",
    "import urllib3\n",
    "urllib3.disable_warnings()"
   ]
  },
  {
   "cell_type": "code",
   "execution_count": 2,
   "metadata": {},
   "outputs": [],
   "source": [
    "# Specify the endpoint and access information\n",
    "configuration = ibmwex.Configuration()\n",
    "configuration.host = 'https://WEX-RELEASE-NAME-ibm-wex-prod-ui.NAMESPACE:30443'\n",
    "configuration.username = 'admin'\n",
    "configuration.password = 'admin'\n",
    "configuration.verify_ssl = False\n",
    "\n",
    "# Create a client instance\n",
    "api_client = ibmwex.ApiClient()"
   ]
  },
  {
   "cell_type": "markdown",
   "metadata": {},
   "source": [
    "<a id='load_data'></a>\n",
    "## Load data\n",
    "The Airbnb reviews for Boston data set can be obtained from [Inside Airbnb](http://insideairbnb.com/about.html).\n",
    "\n",
    "To get your access key link and load this data set:\n",
    "1. Find the data set and obtain an access key link:\n",
    "    1. On the Data Science Experience home page, search for \"airbnb\".\n",
    "    1. Click the card with the title [Airbnb Data for Analytics: Boston Reviews](https://datascience.ibm.com/exchange/public/entry/view/107ab470f90be9a4815791d8ec8c2a9e).\n",
    "    1. Click the link button.\n",
    "    1. Hover above the link button next to the access key to display the link.\n",
    "    1. Double-click the link to select it, copy the link, and click **Close**.\n",
    "    1. Insert the access key link and run the cell to load the data:\n",
    "    1. In the cell below, replace the **LINK-TO-DATA** string in the `read_csv()` method with the link.\n",
    "    1. To verify functionality, and see how to load data, run the following cell to import the pandas and numpy libraries, rename and load five columns of the data into the DataFrame, and show the first five rows of guest review data."
   ]
  },
  {
   "cell_type": "code",
   "execution_count": 3,
   "metadata": {},
   "outputs": [
    {
     "data": {
      "text/html": [
       "<div>\n",
       "<style scoped>\n",
       "    .dataframe tbody tr th:only-of-type {\n",
       "        vertical-align: middle;\n",
       "    }\n",
       "\n",
       "    .dataframe tbody tr th {\n",
       "        vertical-align: top;\n",
       "    }\n",
       "\n",
       "    .dataframe thead th {\n",
       "        text-align: right;\n",
       "    }\n",
       "</style>\n",
       "<table border=\"1\" class=\"dataframe\">\n",
       "  <thead>\n",
       "    <tr style=\"text-align: right;\">\n",
       "      <th></th>\n",
       "      <th>id</th>\n",
       "      <th>date</th>\n",
       "      <th>reviewer</th>\n",
       "      <th>comments</th>\n",
       "      <th>host</th>\n",
       "    </tr>\n",
       "  </thead>\n",
       "  <tbody>\n",
       "    <tr>\n",
       "      <th>0</th>\n",
       "      <td>19454962</td>\n",
       "      <td>2014-09-13</td>\n",
       "      <td>Jorji</td>\n",
       "      <td>What a fantastic place to stay during our week...</td>\n",
       "      <td>Carlos And Cheryl</td>\n",
       "    </tr>\n",
       "    <tr>\n",
       "      <th>1</th>\n",
       "      <td>30021361</td>\n",
       "      <td>2015-04-16</td>\n",
       "      <td>David</td>\n",
       "      <td>Great location and apartment. We would definit...</td>\n",
       "      <td>Carlos And Cheryl</td>\n",
       "    </tr>\n",
       "    <tr>\n",
       "      <th>2</th>\n",
       "      <td>31423904</td>\n",
       "      <td>2015-05-05</td>\n",
       "      <td>Theresa</td>\n",
       "      <td>The apartment was neat and clean and accuratel...</td>\n",
       "      <td>Carlos And Cheryl</td>\n",
       "    </tr>\n",
       "    <tr>\n",
       "      <th>3</th>\n",
       "      <td>31933451</td>\n",
       "      <td>2015-05-12</td>\n",
       "      <td>Neema</td>\n",
       "      <td>I absolutely loved the location of the apartme...</td>\n",
       "      <td>Carlos And Cheryl</td>\n",
       "    </tr>\n",
       "    <tr>\n",
       "      <th>4</th>\n",
       "      <td>34269995</td>\n",
       "      <td>2015-06-07</td>\n",
       "      <td>Aine</td>\n",
       "      <td>My family and I stayed in Boston in June 2015....</td>\n",
       "      <td>Carlos And Cheryl</td>\n",
       "    </tr>\n",
       "  </tbody>\n",
       "</table>\n",
       "</div>"
      ],
      "text/plain": [
       "         id        date reviewer  \\\n",
       "0  19454962  2014-09-13    Jorji   \n",
       "1  30021361  2015-04-16    David   \n",
       "2  31423904  2015-05-05  Theresa   \n",
       "3  31933451  2015-05-12    Neema   \n",
       "4  34269995  2015-06-07     Aine   \n",
       "\n",
       "                                            comments               host  \n",
       "0  What a fantastic place to stay during our week...  Carlos And Cheryl  \n",
       "1  Great location and apartment. We would definit...  Carlos And Cheryl  \n",
       "2  The apartment was neat and clean and accuratel...  Carlos And Cheryl  \n",
       "3  I absolutely loved the location of the apartme...  Carlos And Cheryl  \n",
       "4  My family and I stayed in Boston in June 2015....  Carlos And Cheryl  "
      ]
     },
     "execution_count": 3,
     "metadata": {},
     "output_type": "execute_result"
    }
   ],
   "source": [
    "import pandas as pd\n",
    "import numpy as np\n",
    "\n",
    "# Guest reviews\n",
    "reviews = pd.read_csv(\"LINK-TO-DATA\", usecols=['id','date','reviewer_name','comments','host_name'])\n",
    "reviews.columns=['id','date','reviewer','comments','host']\n",
    "reviews[0:5]"
   ]
  },
  {
   "cell_type": "markdown",
   "metadata": {},
   "source": [
    "<a id='create_dataset'></a>\n",
    "## Create a Dataset\n",
    "A Dataset is a container where documents are stored for analysis. You can use crawlers and importers to import your data into the Dataset. Once your data is loaded into the Dataset, you can associate it to a Collection and then begin analysis.\n",
    "\n",
    "The following python code creates a Dataset named 'Airbnb Data : Boston Reviews' with the four fields of date, reviewer, host, and comments:\n",
    "* `date` : Review date\n",
    "* `reviewer` : Reviewer name\n",
    "* `host` : Host name\n",
    "* `comments` : Review comments"
   ]
  },
  {
   "cell_type": "code",
   "execution_count": 4,
   "metadata": {},
   "outputs": [
    {
     "name": "stdout",
     "output_type": "stream",
     "text": [
      "Airbnb Data : Boston Reviews\n"
     ]
    }
   ],
   "source": [
    "# Create a Dataset\n",
    "api_datasets = ibmwex.DatasetApi(api_client)\n",
    "dataset = ibmwex.Dataset()\n",
    "dataset.name = 'Airbnb Data : Boston Reviews'\n",
    "dataset.fields = [ibmwex.Field(name='date', type='Date'), ibmwex.Field(name='reviewer', type='String'), ibmwex.Field(name='comments', type='String'), ibmwex.Field(name='host', type='String')]\n",
    "dataset = api_datasets.create(dataset)\n",
    "\n",
    "print(dataset.name)"
   ]
  },
  {
   "cell_type": "markdown",
   "metadata": {},
   "source": [
    "<a id='add_documents'></a>\n",
    "## Add documents to the Dataset\n",
    "In this step, you will use REST API to push data directly into the Dataset. For illustrative purposes, the following python code adds the first 1000 documents of Airnbn review data to the Dataset created in the previous step."
   ]
  },
  {
   "cell_type": "code",
   "execution_count": 5,
   "metadata": {},
   "outputs": [
    {
     "name": "stdout",
     "output_type": "stream",
     "text": [
      "Airbnb Data : Boston Reviews\n"
     ]
    }
   ],
   "source": [
    "# Add documents\n",
    "documents = []\n",
    "for review in reviews[0:1000].fillna({'reviewer':'','comments':'','host':''}).itertuples(index=False):\n",
    "    document = ibmwex.Document(id=str(review.id), fields={'date':review.date, 'reviewer':review.reviewer, 'comments':review.comments, 'host':review.host}, tag='airbnb_data/boston_reviews')\n",
    "    documents.append(document)\n",
    "    \n",
    "dataset = api_datasets.add_document(dataset.id, documents)\n",
    "\n",
    "print(dataset.name)"
   ]
  },
  {
   "cell_type": "markdown",
   "metadata": {},
   "source": [
    "<a id='locate_enrichment'></a>\n",
    "## Locate Part-of-Speech and Sentiment enrichments\n",
    "The next step in performing sentiment analysis will be to analyze the `comments` field and extract linguistic attributes and sentiment expressions. Use the WEX library api's as demonstrated in the python code below to extract words, phrases, and sentiment expressions, retrieve Part-of-Speech and Sentiment enrichment information."
   ]
  },
  {
   "cell_type": "code",
   "execution_count": 6,
   "metadata": {},
   "outputs": [
    {
     "name": "stdout",
     "output_type": "stream",
     "text": [
      "Part of Speech\n",
      "Sentiment Analysis\n"
     ]
    }
   ],
   "source": [
    "# Retrieve PoS and Sentiment enrichments\n",
    "pos = None\n",
    "sentiment = None\n",
    "api_enrichments = ibmwex.EnrichmentApi(api_client)\n",
    "for enrichment in api_enrichments.list().items:\n",
    "    if enrichment.type == 'pos':\n",
    "        pos = enrichment\n",
    "    elif enrichment.type == 'sentiment':\n",
    "        sentiment = enrichment\n",
    "\n",
    "print(pos.name)\n",
    "print(sentiment.name)"
   ]
  },
  {
   "cell_type": "markdown",
   "metadata": {},
   "source": [
    "<a id='create_collection'></a>\n",
    "## Create a collection\n",
    "A collection is defined as a source dataset and set of enrichments to be applied to the dataset. The documents in the source dataset are enriched through natural langauge processing known as enrichments.\n",
    "\n",
    "In this step, you will apply Part-of-Speech and Sentiment enrichments to the `comments` field to extract reviewer sentiment expressions about hosts. The following python code creates a collection named 'Airbnb Data : Boston Reviews' with Part-of-Speech and Sentiment enrichments."
   ]
  },
  {
   "cell_type": "code",
   "execution_count": 7,
   "metadata": {},
   "outputs": [
    {
     "name": "stdout",
     "output_type": "stream",
     "text": [
      "Airbnb Data : Boston Reviews\n"
     ]
    }
   ],
   "source": [
    "api_collections = ibmwex.CollectionApi(api_client)\n",
    "collection = ibmwex.Collection()\n",
    "# Collection name\n",
    "collection.name = 'Airbnb Data : Boston Reviews'\n",
    "# Link the dataset\n",
    "collection.datasets = [dataset.id]\n",
    "# Link PoS and Sentiment enrichments\n",
    "collection.enrichments = [pos.id, sentiment.id]\n",
    "# Use the comment field as document body\n",
    "collection.enrich_field_groups = [ibmwex.EnrichFieldGroup(enrichments=[pos.id, sentiment.id], fields=['comments'])]\n",
    "collection.tags = {'defaultBodyFieldId':'comments'}\n",
    "# Define facets tree\n",
    "collection.category = pos.category\n",
    "collection.category.children.extend(sentiment.category.children)\n",
    "# Create a collection\n",
    "collection = api_collections.create(collection)\n",
    "\n",
    "print(collection.name)"
   ]
  },
  {
   "cell_type": "markdown",
   "metadata": {},
   "source": [
    "Since indexing is not instantaneous, the following code will wait until the timeout value of 10 minutes for the index creation to complete. "
   ]
  },
  {
   "cell_type": "code",
   "execution_count": 8,
   "metadata": {},
   "outputs": [
    {
     "name": "stdout",
     "output_type": "stream",
     "text": [
      "Wait until indexing is finished...\n"
     ]
    },
    {
     "data": {
      "text/plain": [
       "True"
      ]
     },
     "execution_count": 8,
     "metadata": {},
     "output_type": "execute_result"
    }
   ],
   "source": [
    "import time\n",
    "\n",
    "def wait_collection(api_collections, id, timeout_secs=600, period_secs=10):\n",
    "    mustend = time.time() + timeout_secs\n",
    "    while (time.time() < mustend):\n",
    "        completed = True\n",
    "        status = api_collections.status(id).docproc\n",
    "        completed = status.completed\n",
    "        if completed: return True\n",
    "\n",
    "        time.sleep(period_secs)\n",
    "    print(\"Time out\")\n",
    "    return False\n",
    "\n",
    "\n",
    "print('Wait until indexing is finished...')\n",
    "wait_collection(api_collections, collection.id)"
   ]
  },
  {
   "cell_type": "markdown",
   "metadata": {},
   "source": [
    "<a id='analyze_positive_target'></a>\n",
    "## Analyze positive targets\n",
    "\n",
    "The following code uses the collection that has been created so far to generate and display a positive target facet pair heatmap."
   ]
  },
  {
   "cell_type": "code",
   "execution_count": 9,
   "metadata": {},
   "outputs": [
    {
     "name": "stdout",
     "output_type": "stream",
     "text": [
      "Populating the interactive namespace from numpy and matplotlib\n"
     ]
    },
    {
     "data": {
      "text/plain": [
       "[Text(69,0.5,'Host'), Text(0.5,69,'Positive Target')]"
      ]
     },
     "execution_count": 9,
     "metadata": {},
     "output_type": "execute_result"
    },
    {
     "data": {
      "image/png": "[encoded data removed]",
      "text/plain": [
       "<matplotlib.figure.Figure at 0x7f5c03257780>"
      ]
     },
     "metadata": {},
     "output_type": "display_data"
    }
   ],
   "source": [
    "x_dim = 'host'\n",
    "x_label = 'Host'\n",
    "y_dim = 'annotation._sentiment.target.positive'\n",
    "y_label = 'Positive Target'\n",
    "\n",
    "api_exploration = ibmwex.ExplorationApi(api_client)\n",
    "results = api_exploration.query(collection.id, '*:*', rows=0, facet='true', \n",
    "    facet_field=[x_dim,y_dim], facet_stats='pairs', facet_limit=15)\n",
    "\n",
    "fs = results.facet_stats\n",
    "\n",
    "x_labels = list(map(lambda i: i['id'], fs.dims[x_dim]))\n",
    "y_labels = list(map(lambda i: i['id'], fs.dims[y_dim]))\n",
    "correlation_matrix = list(\n",
    "    map(lambda  x : list(map(lambda y : y['correlation'], x)),\n",
    "        list(map(lambda x : x[y_dim], fs.stats['pairs'][x_dim]))\n",
    "    )\n",
    ")\n",
    "\n",
    "%pylab inline\n",
    "import seaborn as sns\n",
    "import matplotlib.pyplot as plt\n",
    "\n",
    "sns.set(style=\"whitegrid\")\n",
    "sns.set_color_codes(\"pastel\")\n",
    "\n",
    "f, ax = plt.subplots(1, 1, figsize=(10,10))\n",
    "sns.heatmap(correlation_matrix, xticklabels=y_labels, yticklabels=x_labels, cbar=False, cmap='Blues')\n",
    "ax.set(xlabel=y_label, ylabel=x_label)"
   ]
  },
  {
   "cell_type": "markdown",
   "metadata": {},
   "source": [
    "<a id='summary'></a>\n",
    "## Summary\n",
    "\n",
    "In this notebook you have learned how to use Watson Explorer from DSX Local to analyze unstructured content to perform sentiment analysis using data sets for that are directly obtained real world data from the Airbnb's guest reviews from their lodging experience. You learned the basic steps to analyze the unstructured data through the Watson Explorer and narrow the focus on your unstructured data using python, python and WEX libraries, and create sentiment heatmaps."
   ]
  }
 ],
 "metadata": {
  "kernelspec": {
   "display_name": "Python 3",
   "language": "python",
   "name": "python3"
  },
  "language_info": {
   "codemirror_mode": {
    "name": "ipython",
    "version": 3
   },
   "file_extension": ".py",
   "mimetype": "text/x-python",
   "name": "python",
   "nbconvert_exporter": "python",
   "pygments_lexer": "ipython3",
   "version": "3.6.4"
  }
 },
 "nbformat": 4,
 "nbformat_minor": 2
}
