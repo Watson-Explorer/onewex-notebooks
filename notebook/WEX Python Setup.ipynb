{
 "cells": [
  {
   "cell_type": "code",
   "execution_count": null,
   "metadata": {},
   "outputs": [],
   "source": [
    "import urllib3\n",
    "import shutil\n",
    "import os\n",
    "\n",
    "urllib3.disable_warnings()\n",
    "http = urllib3.PoolManager()\n",
    "url = 'https://WEX-RELEASE-NAME-ibm-wex-prod-ui.NAMESPACE:30443/docs/wex-python-api.zip'\n",
    "path = 'wex-python-api.zip'\n",
    "with http.request('GET', url, preload_content=False) as r, open(path, 'wb') as out_file:       \n",
    "    shutil.copyfileobj(r, out_file)\n",
    "!pip install ./wex-python-api.zip\n",
    "os.remove(path)"
   ]
  },
  {
   "cell_type": "code",
   "execution_count": null,
   "metadata": {},
   "outputs": [],
   "source": []
  }
 ],
 "metadata": {
  "kernelspec": {
   "display_name": "Python 3",
   "language": "python",
   "name": "python3"
  },
  "language_info": {
   "codemirror_mode": {
    "name": "ipython",
    "version": 3
   },
   "file_extension": ".py",
   "mimetype": "text/x-python",
   "name": "python",
   "nbconvert_exporter": "python",
   "pygments_lexer": "ipython3",
   "version": "3.6.4"
  }
 },
 "nbformat": 4,
 "nbformat_minor": 2
}
